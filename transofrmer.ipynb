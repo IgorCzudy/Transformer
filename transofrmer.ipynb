{
 "cells": [
  {
   "cell_type": "code",
   "execution_count": 77,
   "metadata": {},
   "outputs": [],
   "source": [
    "with open('input.txt', 'r', encoding='utf-8') as file:\n",
    "    text = file.read()"
   ]
  },
  {
   "cell_type": "code",
   "execution_count": 78,
   "metadata": {},
   "outputs": [
    {
     "data": {
      "text/plain": [
       "1115394"
      ]
     },
     "execution_count": 78,
     "metadata": {},
     "output_type": "execute_result"
    }
   ],
   "source": [
    "len(text)"
   ]
  },
  {
   "cell_type": "code",
   "execution_count": 79,
   "metadata": {},
   "outputs": [
    {
     "name": "stdout",
     "output_type": "stream",
     "text": [
      "First Citizen:\n",
      "Before we proceed any further, hear me speak.\n",
      "\n",
      "All:\n",
      "Speak, speak.\n",
      "\n",
      "First Citizen:\n",
      "You\n"
     ]
    }
   ],
   "source": [
    "print(text[:100])"
   ]
  },
  {
   "cell_type": "code",
   "execution_count": 80,
   "metadata": {},
   "outputs": [
    {
     "name": "stdout",
     "output_type": "stream",
     "text": [
      "\n",
      " !$&',-.3:;?ABCDEFGHIJKLMNOPQRSTUVWXYZabcdefghijklmnopqrstuvwxyz\n",
      "65\n"
     ]
    }
   ],
   "source": [
    "chars = sorted(list(set(text)))\n",
    "vocab_size = len(chars)\n",
    "print(''.join(chars))\n",
    "print(vocab_size)"
   ]
  },
  {
   "cell_type": "code",
   "execution_count": 81,
   "metadata": {},
   "outputs": [],
   "source": [
    "stoi = {ch:i for i, ch in enumerate(chars)}\n",
    "itos = {i:ch for i, ch in enumerate(chars)}\n"
   ]
  },
  {
   "cell_type": "code",
   "execution_count": 82,
   "metadata": {},
   "outputs": [],
   "source": [
    "encode = lambda s: [stoi[ch] for ch in s]\n",
    "decode = lambda s: ''.join([itos[i] for i in s])"
   ]
  },
  {
   "cell_type": "code",
   "execution_count": 83,
   "metadata": {},
   "outputs": [
    {
     "name": "stdout",
     "output_type": "stream",
     "text": [
      "[46, 47, 1, 58, 46, 43, 56, 43]\n",
      "hi there\n"
     ]
    }
   ],
   "source": [
    "print(encode(\"hi there\"))\n",
    "print(decode(encode(\"hi there\")))"
   ]
  },
  {
   "cell_type": "markdown",
   "metadata": {},
   "source": [
    "google use sentencePice insteed this coding scheme, (text to int), its sub-word level (usually done by that)\n",
    "\n",
    "tiktoken "
   ]
  },
  {
   "cell_type": "code",
   "execution_count": 84,
   "metadata": {},
   "outputs": [
    {
     "data": {
      "text/plain": [
       "(torch.Size([1115394]), torch.int64)"
      ]
     },
     "execution_count": 84,
     "metadata": {},
     "output_type": "execute_result"
    }
   ],
   "source": [
    "import torch \n",
    "data = torch.tensor(encode(text), dtype=torch.long)\n",
    "data.shape, data.dtype"
   ]
  },
  {
   "cell_type": "code",
   "execution_count": 85,
   "metadata": {},
   "outputs": [
    {
     "data": {
      "text/plain": [
       "tensor([18, 47, 56, 57, 58,  1, 15, 47, 58, 47, 64, 43, 52, 10,  0, 14, 43, 44,\n",
       "        53, 56, 43,  1, 61, 43,  1, 54, 56, 53, 41, 43, 43, 42,  1, 39, 52, 63,\n",
       "         1, 44, 59, 56, 58, 46, 43, 56,  6,  1, 46, 43, 39, 56,  1, 51, 43,  1,\n",
       "        57, 54, 43, 39, 49,  8,  0,  0, 13, 50, 50, 10,  0, 31, 54, 43, 39, 49,\n",
       "         6,  1, 57, 54, 43, 39, 49,  8,  0,  0, 18, 47, 56, 57, 58,  1, 15, 47,\n",
       "        58, 47, 64, 43, 52, 10,  0, 37, 53, 59])"
      ]
     },
     "execution_count": 85,
     "metadata": {},
     "output_type": "execute_result"
    }
   ],
   "source": [
    "data[:100]"
   ]
  },
  {
   "cell_type": "code",
   "execution_count": 86,
   "metadata": {},
   "outputs": [],
   "source": [
    "# 90% train test split \n",
    "n = int(len(data) * 0.9)\n",
    "train_data = data[:n] # we are going to rtake random chanks of data, block_size, context lenght\n",
    "val_data = data[n:]"
   ]
  },
  {
   "cell_type": "code",
   "execution_count": 87,
   "metadata": {},
   "outputs": [
    {
     "data": {
      "text/plain": [
       "tensor([18, 47, 56, 57, 58,  1, 15, 47, 58])"
      ]
     },
     "execution_count": 87,
     "metadata": {},
     "output_type": "execute_result"
    }
   ],
   "source": [
    "block_size = 8\n",
    "train_data[:8+1]"
   ]
  },
  {
   "cell_type": "code",
   "execution_count": 88,
   "metadata": {},
   "outputs": [
    {
     "name": "stdout",
     "output_type": "stream",
     "text": [
      "when inputs is tensor([18]) the target is 47\n",
      "when inputs is tensor([18, 47]) the target is 56\n",
      "when inputs is tensor([18, 47, 56]) the target is 57\n",
      "when inputs is tensor([18, 47, 56, 57]) the target is 58\n",
      "when inputs is tensor([18, 47, 56, 57, 58]) the target is 1\n",
      "when inputs is tensor([18, 47, 56, 57, 58,  1]) the target is 15\n",
      "when inputs is tensor([18, 47, 56, 57, 58,  1, 15]) the target is 47\n",
      "when inputs is tensor([18, 47, 56, 57, 58,  1, 15, 47]) the target is 58\n"
     ]
    }
   ],
   "source": [
    "for i in range(block_size):\n",
    "    print(f\"when inputs is {train_data[:i+1]} the target is {train_data[i+1]}\")"
   ]
  },
  {
   "cell_type": "markdown",
   "metadata": {},
   "source": [
    "<!-- batches for officientices  -->"
   ]
  },
  {
   "cell_type": "code",
   "execution_count": 89,
   "metadata": {},
   "outputs": [
    {
     "name": "stdout",
     "output_type": "stream",
     "text": [
      "tensor([[24, 43, 58,  5, 57,  1, 46, 43],\n",
      "        [44, 53, 56,  1, 58, 46, 39, 58],\n",
      "        [52, 58,  1, 58, 46, 39, 58,  1],\n",
      "        [25, 17, 27, 10,  0, 21,  1, 54]])\n",
      "tensor([[43, 58,  5, 57,  1, 46, 43, 39],\n",
      "        [53, 56,  1, 58, 46, 39, 58,  1],\n",
      "        [58,  1, 58, 46, 39, 58,  1, 46],\n",
      "        [17, 27, 10,  0, 21,  1, 54, 39]])\n"
     ]
    }
   ],
   "source": [
    "torch.manual_seed(1337)\n",
    "batch_size = 4\n",
    "block_size = 8\n",
    "\n",
    "def get_batch(split):\n",
    "    data = val_data if split == 'test' else train_data\n",
    "    ix = torch.randint(len(data)-block_size, (batch_size, ))\n",
    "    xb = torch.stack([data[i: i+block_size] for i in ix])\n",
    "    yb = torch.stack([data[i+1: i+block_size+1] for i in ix])\n",
    "\n",
    "    return xb, yb\n",
    "\n",
    "\n",
    "\n",
    "xb, yb = get_batch('train')\n",
    "print(xb)\n",
    "print(yb)"
   ]
  },
  {
   "cell_type": "code",
   "execution_count": 90,
   "metadata": {},
   "outputs": [
    {
     "name": "stdout",
     "output_type": "stream",
     "text": [
      "when inputs is tensor([24]) the target is 43\n",
      "when inputs is tensor([24, 43]) the target is 58\n",
      "when inputs is tensor([24, 43, 58]) the target is 5\n",
      "when inputs is tensor([24, 43, 58,  5]) the target is 57\n",
      "when inputs is tensor([24, 43, 58,  5, 57]) the target is 1\n",
      "when inputs is tensor([24, 43, 58,  5, 57,  1]) the target is 46\n",
      "when inputs is tensor([24, 43, 58,  5, 57,  1, 46]) the target is 43\n",
      "when inputs is tensor([24, 43, 58,  5, 57,  1, 46, 43]) the target is 39\n",
      "when inputs is tensor([44]) the target is 53\n",
      "when inputs is tensor([44, 53]) the target is 56\n",
      "when inputs is tensor([44, 53, 56]) the target is 1\n",
      "when inputs is tensor([44, 53, 56,  1]) the target is 58\n",
      "when inputs is tensor([44, 53, 56,  1, 58]) the target is 46\n",
      "when inputs is tensor([44, 53, 56,  1, 58, 46]) the target is 39\n",
      "when inputs is tensor([44, 53, 56,  1, 58, 46, 39]) the target is 58\n",
      "when inputs is tensor([44, 53, 56,  1, 58, 46, 39, 58]) the target is 1\n",
      "when inputs is tensor([52]) the target is 58\n",
      "when inputs is tensor([52, 58]) the target is 1\n",
      "when inputs is tensor([52, 58,  1]) the target is 58\n",
      "when inputs is tensor([52, 58,  1, 58]) the target is 46\n",
      "when inputs is tensor([52, 58,  1, 58, 46]) the target is 39\n",
      "when inputs is tensor([52, 58,  1, 58, 46, 39]) the target is 58\n",
      "when inputs is tensor([52, 58,  1, 58, 46, 39, 58]) the target is 1\n",
      "when inputs is tensor([52, 58,  1, 58, 46, 39, 58,  1]) the target is 46\n",
      "when inputs is tensor([25]) the target is 17\n",
      "when inputs is tensor([25, 17]) the target is 27\n",
      "when inputs is tensor([25, 17, 27]) the target is 10\n",
      "when inputs is tensor([25, 17, 27, 10]) the target is 0\n",
      "when inputs is tensor([25, 17, 27, 10,  0]) the target is 21\n",
      "when inputs is tensor([25, 17, 27, 10,  0, 21]) the target is 1\n",
      "when inputs is tensor([25, 17, 27, 10,  0, 21,  1]) the target is 54\n",
      "when inputs is tensor([25, 17, 27, 10,  0, 21,  1, 54]) the target is 39\n"
     ]
    }
   ],
   "source": [
    "for batch in range(batch_size):\n",
    "    for i in range(block_size):\n",
    "            print(f\"when inputs is {xb[batch, :i+1]} the target is {yb[batch, i]}\")"
   ]
  },
  {
   "cell_type": "code",
   "execution_count": 97,
   "metadata": {},
   "outputs": [
    {
     "name": "stdout",
     "output_type": "stream",
     "text": [
      "torch.Size([32, 65])\n",
      "tensor(4.8786, grad_fn=<NllLossBackward0>)\n"
     ]
    },
    {
     "data": {
      "text/plain": [
       "\"\\nSr?qP-QWktXoL&jLDJgOLVz'RIoDqHdhsV&vLLxatjscMpwLERSPyao.qfzs$Ys$zF-w,;eEkzxjgCKFChs!iWW.ObzDnxA Ms$3\""
      ]
     },
     "execution_count": 97,
     "metadata": {},
     "output_type": "execute_result"
    }
   ],
   "source": [
    "import torch\n",
    "import torch.nn as nn\n",
    "from torch.nn import functional as F\n",
    "torch.manual_seed(1337)\n",
    "\n",
    "class BiagramLanguageModel(nn.Module):\n",
    "\n",
    "    def __init__(self, vocab_size):\n",
    "        super().__init__()\n",
    "        self.token_embedding_table = nn.Embedding(vocab_size, vocab_size)\n",
    "    \n",
    "    def forward(self, idx ,target=None):\n",
    "        logits = self.token_embedding_table(idx) # B,T,C\n",
    "        if target is None:\n",
    "            loss = None\n",
    "        else:\n",
    "            B, T, C = logits.shape \n",
    "            logits = logits.view(B*T, C)\n",
    "            #target.shape = B, T \n",
    "            target = target.view(B*T)\n",
    "            loss = F.cross_entropy(logits, target)\n",
    "    \n",
    "        return logits, loss\n",
    "    \n",
    "    def generate(self, idx, max_new_token):\n",
    "        # idx B,T\n",
    "        # in generation become B,T+1 +1 +1 +1 ...\n",
    "        for _ in range(max_new_token):\n",
    "            logits, loss = self(idx)\n",
    "\n",
    "            # focus only on the last time step \n",
    "            logits = logits[:,-1,:]\n",
    "            probs = F.softmax(logits, dim=1)\n",
    "\n",
    "            idx_next = torch.multinomial(probs, 1)\n",
    "            idx = torch.cat((idx, idx_next), dim=1)\n",
    "\n",
    "        return idx\n",
    "\n",
    "m = BiagramLanguageModel(vocab_size)\n",
    "logits, loss = m(xb, yb)\n",
    "print(logits.shape)\n",
    "print(loss)\n",
    "decode(m.generate(torch.zeros((1,1), dtype=torch.long), max_new_token=100)[0].tolist())"
   ]
  },
  {
   "cell_type": "code",
   "execution_count": null,
   "metadata": {},
   "outputs": [],
   "source": [
    "optymizer = "
   ]
  }
 ],
 "metadata": {
  "kernelspec": {
   "display_name": "ml",
   "language": "python",
   "name": "python3"
  },
  "language_info": {
   "codemirror_mode": {
    "name": "ipython",
    "version": 3
   },
   "file_extension": ".py",
   "mimetype": "text/x-python",
   "name": "python",
   "nbconvert_exporter": "python",
   "pygments_lexer": "ipython3",
   "version": "3.11.2"
  }
 },
 "nbformat": 4,
 "nbformat_minor": 2
}
